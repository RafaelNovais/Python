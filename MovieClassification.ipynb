{
  "nbformat": 4,
  "nbformat_minor": 0,
  "metadata": {
    "colab": {
      "provenance": [],
      "mount_file_id": "1GW8J6jobQllvXbv6PVU7ivIfJ9QBYJT5",
      "authorship_tag": "ABX9TyNpTGOWIudaRCzSQfwpA3V5",
      "include_colab_link": true
    },
    "kernelspec": {
      "name": "python3",
      "display_name": "Python 3"
    },
    "language_info": {
      "name": "python"
    }
  },
  "cells": [
    {
      "cell_type": "markdown",
      "metadata": {
        "id": "view-in-github",
        "colab_type": "text"
      },
      "source": [
        "<a href=\"https://colab.research.google.com/github/RafaelNovais/Python/blob/master/MovieClassification.ipynb\" target=\"_parent\"><img src=\"https://colab.research.google.com/assets/colab-badge.svg\" alt=\"Open In Colab\"/></a>"
      ]
    },
    {
      "cell_type": "markdown",
      "source": [
        "##Movie Analysis\n"
      ],
      "metadata": {
        "id": "cO49mIsLCirK"
      }
    },
    {
      "cell_type": "code",
      "execution_count": null,
      "metadata": {
        "id": "WhOYw04NChdI"
      },
      "outputs": [],
      "source": [
        "import pandas as pd\n",
        "import seaborn as sns\n",
        "import matplotlib.pyplot as plt\n",
        "\n",
        "\n",
        "ratings = pd.read_csv(\"drive/MyDrive/Master/Courses/Movie/ratings.csv\")\n",
        "movies = pd.read_csv(\"drive/MyDrive/Master/Courses/Movie/movies.csv\")\n",
        "tags = pd.read_csv(\"drive/MyDrive/Master/Courses/Movie/tags.csv\")\n",
        "\n",
        "print(ratings)\n",
        "print(movies)\n",
        "print(tags)\n",
        "\n",
        "\n",
        "\n",
        "\n",
        "\n",
        "ratings.rating.describe()\n",
        "\n",
        "rating_mean = ratings.groupby(\"movieId\").mean()[\"rating\"]"
      ]
    },
    {
      "cell_type": "code",
      "source": [
        "rating_mean.plot(kind='hist')\n"
      ],
      "metadata": {
        "id": "Ppce-oOLNbJc"
      },
      "execution_count": null,
      "outputs": []
    },
    {
      "cell_type": "code",
      "source": [
        "sns.distplot(rating_mean, bins=10)\n"
      ],
      "metadata": {
        "id": "_GZmzfXUO_uo"
      },
      "execution_count": null,
      "outputs": []
    },
    {
      "cell_type": "code",
      "source": [
        "ratings.rating.std() #standard deviation"
      ],
      "metadata": {
        "id": "ZHLv7i2opscu"
      },
      "execution_count": null,
      "outputs": []
    },
    {
      "cell_type": "code",
      "source": [
        "#tags.tag.unique()# return distinct\n",
        "#tags.tag.drop_duplicates # remove duplicates\n",
        "#tags[tags['tag']== 'funny'] # Filter Funny\n",
        "\n",
        "tags[(tags['userId']>= 100) & (tags['userId']<= 500)] # Filter between  | or\n"
      ],
      "metadata": {
        "id": "IcrQipCcxpM5"
      },
      "execution_count": null,
      "outputs": []
    },
    {
      "cell_type": "code",
      "source": [
        "rating_mean.to_csv('drive/MyDrive/Master/Courses/Movie/RatingMean.csv') #export data"
      ],
      "metadata": {
        "id": "PXuQVufVzWtR"
      },
      "execution_count": null,
      "outputs": []
    },
    {
      "cell_type": "code",
      "source": [
        "#tags[tags['tag'].isnull()] # return null values\n",
        "#tags.dropna(subset=['tag'],  implace = True) # delete null values, implace to apply the changes in tags directly\n",
        "#del tagsd['timestemp'] # delete timestemp\n",
        "#tags.pop('timestemp') # delete timestemp\n",
        "#tags.drop(['timestemp', 'tag'], axis=1) delete column timestemp and tag, axis=0 row\n",
        "\n",
        "select = (tags['tag'] == 'funny') # set all funny in select\n",
        "nofunny = tags[~select] # remove all funnys from tags ~not in\n",
        "\n",
        "tags.fillna({'tag':0, 'timestamep': 0})  # fill an NA with 0"
      ],
      "metadata": {
        "id": "2kRCnYqgQ6--"
      },
      "execution_count": null,
      "outputs": []
    },
    {
      "cell_type": "code",
      "source": [
        "#tags[score] = tags[tag] + tags['movieId'] # creating a new column with sum 2 other\n",
        "#group = tags.groupby('tag') #group by a column\n",
        "#data.groupby(['company_location', 'job_title' ])[['salary_in_usd']].mean().round(2) # duble groupby\n",
        "#group.groups # show all the results are in each group\n",
        "\n",
        "for bairro, dados in group\n",
        "  print('{} -> {}'.format(bairro,dados.valor.mean).round(2))\n",
        "\n",
        "groups_quartos = [0,2,4,6,100]\n",
        "quartos = pd.cut(dados.quartos,groups_quartos) # agrupa e conta os quarto de 0a2 2a4 ...\n",
        "pd.value_counts(quartos)\n",
        "#casa = ['casa', 'casa de comdominio', 'casa de vila']\n",
        "#dados['tipo agregado'] = dados['tipo'].apply(lambda x: 'casa' if x in casa else 'apartament') # lamba function to run each line"
      ],
      "metadata": {
        "id": "W7xcOlolYLe9",
        "colab": {
          "base_uri": "https://localhost:8080/"
        },
        "outputId": "4896236f-a63e-4d7a-ad53-d6573c6ef0f3"
      },
      "execution_count": null,
      "outputs": [
        {
          "output_type": "execute_result",
          "data": {
            "text/plain": [
              "<pandas.core.groupby.generic.DataFrameGroupBy object at 0x7dbd78306e60>"
            ]
          },
          "metadata": {},
          "execution_count": 3
        }
      ]
    },
    {
      "cell_type": "code",
      "source": [
        "#boxplot\n",
        "#ax = sns.boxplot(x='salary_in_usd', y='company_location', data=data,orient='h')\n",
        "#ax.figure.set_size_inches(12,4)\n",
        "#ax\n"
      ],
      "metadata": {
        "id": "9VM-BiMRO-pn"
      },
      "execution_count": null,
      "outputs": []
    },
    {
      "cell_type": "code",
      "source": [
        "#Frequencia e Medidas\n",
        "# desvio = ratings['rating'].mad() # Desvio\n",
        "# variancia = ratings['rating'].var() #variancia\n",
        "# desvio_padrao = ratings['rating'].std() # variancia raiz quadrada\n",
        "ax = notas_fulano['Fulano'].plot(style = 'o')\n",
        "ax.figure.set_size_inches(14, 6)\n",
        "ax.hlines(y = nota_media_fulano, xmin = 0, xmax = notas_fulano.shape[0] - 1, colors='red')\n",
        "for i in range(notas_fulano.shape[0]):\n",
        "    ax.vlines(x = i, ymin = nota_media_fulano, ymax = notas_fulano['Fulano'][i], linestyles='dashed')\n",
        "ax"
      ],
      "metadata": {
        "id": "X3R5pV-k3-z0"
      },
      "execution_count": null,
      "outputs": []
    },
    {
      "cell_type": "code",
      "source": [
        "#Probabilidade e Amostragem\n",
        "from scipy.special import comb\n",
        "from scipe.stats import binom\n",
        "from scipe.stats import poisson\n",
        "from scipe.stats import norm\n",
        "#combinacoes = comb(60,6)\n",
        "#Probabilidade = 1 / combinacoes\n",
        "#Probabilidade = binom(k,n,p) # k numero de sucesso, n numero de eventos, probabilidade de sucesso\n",
        "#ProbiAcumulada = binom.sf(4,n,p)\n",
        "#ProbiPoisson = poisson.pmf(k,media)\n",
        "#DistNormal = norm.cdf(z) # z = x - media / desvioPadrao\n",
        "\n"
      ],
      "metadata": {
        "id": "81vDRqYNFz7y"
      },
      "execution_count": null,
      "outputs": []
    },
    {
      "cell_type": "code",
      "source": [
        "#Joint plot\n",
        "ax = sns.jointplot(x=\"temp_media\", y=\"consumo\", data=dados, kind='reg')\n",
        "ax.fig.suptitle('Consumo X Temperatura', fontsize=18, y=1.05)\n",
        "ax.set_axis_labels(\"Temperatura Média\", \"Consumo de  Cerveja\", fontsize=14)\n",
        "\n",
        "#PLot linear\n",
        "sns.lmplot(x=\"temp_max\", y=\"consumo\", data=dados, col=\"fds\")\n",
        "\n",
        "\n",
        "# All graphics\n",
        "ax = sns.pairplot(dados)\n",
        "\n",
        "#Plot 3 variables\n",
        "ax = sns.lmplot(x=\"temp_max\", y=\"consumo\", data=dados, hue=\"fds\", markers=['o', '*'], legend=False)\n",
        "ax.fig.suptitle('Reta de Regressão - Consumo X Temperatura X Final de Semana', fontsize=16, y=1.02)\n",
        "ax.set_xlabels(\"Temperatura Máxima (°C)\", fontsize=14)\n",
        "ax.set_ylabels(\"Consumo de Cerveja (litros)\", fontsize=14)\n",
        "ax.add_legend(title=\"Fim de Semana\")\n"
      ],
      "metadata": {
        "id": "IVTLz5NJMHcV"
      },
      "execution_count": null,
      "outputs": []
    },
    {
      "cell_type": "markdown",
      "source": [],
      "metadata": {
        "id": "R1-45yRKYK2q"
      }
    }
  ]
}