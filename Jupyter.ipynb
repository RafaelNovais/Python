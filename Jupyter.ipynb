{
 "cells": [
  {
   "cell_type": "code",
   "execution_count": 2,
   "outputs": [
    {
     "name": "stdout",
     "output_type": "stream",
     "text": [
      "100 102\n"
     ]
    }
   ],
   "source": [
    "def carsimulate(prog, xsize, zsize):\n",
    "    xtotal = 0\n",
    "    ytotal = 0\n",
    "\n",
    "    for i in prog:\n",
    "        if i == \"N\":\n",
    "            xtotal += 1\n",
    "        elif i == \"S\":\n",
    "            xtotal -= 1\n",
    "        elif i == \"E\":\n",
    "            ytotal -= 1\n",
    "        elif i == \"W\":\n",
    "            ytotal += 1\n",
    "    x = xsize + xtotal\n",
    "    y = zsize + ytotal\n",
    "    print(x,y)\n",
    "\n",
    "carsimulate(\"NWWWESNSNNSSEEWW\", 100, 100)\n"
   ],
   "metadata": {
    "collapsed": false,
    "ExecuteTime": {
     "end_time": "2023-09-14T17:15:18.821826800Z",
     "start_time": "2023-09-14T17:15:18.812615300Z"
    }
   },
   "id": "2a13330add8bac4a"
  },
  {
   "cell_type": "code",
   "execution_count": null,
   "outputs": [],
   "source": [
    " "
   ],
   "metadata": {
    "collapsed": false
   },
   "id": "92f285216de70a38"
  }
 ],
 "metadata": {
  "kernelspec": {
   "display_name": "Python 3",
   "language": "python",
   "name": "python3"
  },
  "language_info": {
   "codemirror_mode": {
    "name": "ipython",
    "version": 2
   },
   "file_extension": ".py",
   "mimetype": "text/x-python",
   "name": "python",
   "nbconvert_exporter": "python",
   "pygments_lexer": "ipython2",
   "version": "2.7.6"
  }
 },
 "nbformat": 4,
 "nbformat_minor": 5
}
